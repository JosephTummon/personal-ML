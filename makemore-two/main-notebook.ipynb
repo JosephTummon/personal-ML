{
 "cells": [
  {
   "cell_type": "code",
   "execution_count": 2,
   "id": "53de7820",
   "metadata": {},
   "outputs": [],
   "source": [
    "import torch\n",
    "import torch.nn.functional as F\n",
    "import matplotlib.pyplot as plt\n",
    "%matplotlib inline"
   ]
  },
  {
   "cell_type": "code",
   "execution_count": 3,
   "id": "6378b7d6",
   "metadata": {},
   "outputs": [
    {
     "data": {
      "text/plain": [
       "['emma', 'olivia', 'ava', 'isabella', 'sophia', 'charlotte', 'mia', 'amelia']"
      ]
     },
     "execution_count": 3,
     "metadata": {},
     "output_type": "execute_result"
    }
   ],
   "source": [
    "words = open('names.txt', 'r').read().splitlines()\n",
    "words[:8]"
   ]
  },
  {
   "cell_type": "code",
   "execution_count": 4,
   "id": "9b1dcd20",
   "metadata": {},
   "outputs": [
    {
     "data": {
      "text/plain": [
       "32033"
      ]
     },
     "execution_count": 4,
     "metadata": {},
     "output_type": "execute_result"
    }
   ],
   "source": [
    "len(words)"
   ]
  },
  {
   "cell_type": "code",
   "execution_count": 5,
   "id": "4156a5c7",
   "metadata": {},
   "outputs": [
    {
     "name": "stdout",
     "output_type": "stream",
     "text": [
      "{1: 'a', 2: 'b', 3: 'c', 4: 'd', 5: 'e', 6: 'f', 7: 'g', 8: 'h', 9: 'i', 10: 'j', 11: 'k', 12: 'l', 13: 'm', 14: 'n', 15: 'o', 16: 'p', 17: 'q', 18: 'r', 19: 's', 20: 't', 21: 'u', 22: 'v', 23: 'w', 24: 'x', 25: 'y', 26: 'z', 0: '.'}\n"
     ]
    }
   ],
   "source": [
    "# build the vocabulary of characters and mappings to/from integers\n",
    "chars = sorted(list(set(''.join(words))))\n",
    "stoi = {s:i+1 for i,s in enumerate(chars)}\n",
    "stoi['.'] = 0\n",
    "itos = {i:s for s, i in stoi.items()}\n",
    "print(itos)"
   ]
  },
  {
   "cell_type": "markdown",
   "id": "003092a6-4564-40ca-96f4-1e664cf46cd0",
   "metadata": {},
   "source": [
    "## Building the dataset."
   ]
  },
  {
   "cell_type": "code",
   "execution_count": 6,
   "id": "76d413da-ed09-425f-a61b-bb7ace12f7e9",
   "metadata": {
    "scrolled": true
   },
   "outputs": [],
   "source": [
    "block_size = 3 \n",
    "X, Y = [], []\n",
    "\n",
    "for w in words:\n",
    "    context = [0] * block_size # How many characters do we want to take to predict the next one. \n",
    "\n",
    "    for ch in w + '.':\n",
    "        ix = stoi[ch]\n",
    "        X.append(context)\n",
    "        Y.append(ix)\n",
    "        context = context[1:] + [ix] \n",
    "\n",
    "X = torch.tensor(X)\n",
    "Y = torch.tensor(Y)\n",
    "    "
   ]
  },
  {
   "cell_type": "code",
   "execution_count": 7,
   "id": "284f74c6-6b2e-41d7-a3fd-78e9a0ff4813",
   "metadata": {},
   "outputs": [
    {
     "data": {
      "text/plain": [
       "(torch.Size([228146, 3]), torch.int64, torch.Size([228146]), torch.int64)"
      ]
     },
     "execution_count": 7,
     "metadata": {},
     "output_type": "execute_result"
    }
   ],
   "source": [
    "X.shape, X.dtype, Y.shape, Y.dtype"
   ]
  },
  {
   "cell_type": "code",
   "execution_count": 8,
   "id": "bf6b5ddc-3a0b-406b-9d2a-671b81b1d02b",
   "metadata": {},
   "outputs": [],
   "source": [
    "C = torch.randn((27, 2))"
   ]
  },
  {
   "cell_type": "code",
   "execution_count": 9,
   "id": "71614336-e4b1-43b1-8382-a2e63a2203ec",
   "metadata": {},
   "outputs": [
    {
     "data": {
      "text/plain": [
       "torch.float32"
      ]
     },
     "execution_count": 9,
     "metadata": {},
     "output_type": "execute_result"
    }
   ],
   "source": [
    "C.dtype"
   ]
  },
  {
   "cell_type": "code",
   "execution_count": 10,
   "id": "218e08b3-0961-4794-8a83-079aaf9ccc94",
   "metadata": {},
   "outputs": [
    {
     "data": {
      "text/plain": [
       "tensor([ 0.9820, -0.9211])"
      ]
     },
     "execution_count": 10,
     "metadata": {},
     "output_type": "execute_result"
    }
   ],
   "source": [
    "C[5] # Use this as more concise."
   ]
  },
  {
   "cell_type": "code",
   "execution_count": 11,
   "id": "3d067bc1-fbb6-4242-8567-144d73b56645",
   "metadata": {},
   "outputs": [
    {
     "data": {
      "text/plain": [
       "tensor([ 0.9820, -0.9211])"
      ]
     },
     "execution_count": 11,
     "metadata": {},
     "output_type": "execute_result"
    }
   ],
   "source": [
    "F.one_hot(torch.tensor(5), num_classes=27).float() @ C"
   ]
  },
  {
   "cell_type": "code",
   "execution_count": 12,
   "id": "74e4ac10-e260-4661-a02e-e699a0d840b7",
   "metadata": {},
   "outputs": [
    {
     "data": {
      "text/plain": [
       "torch.Size([228146, 3, 2])"
      ]
     },
     "execution_count": 12,
     "metadata": {},
     "output_type": "execute_result"
    }
   ],
   "source": [
    "emb = C[X]\n",
    "emb.shape"
   ]
  },
  {
   "cell_type": "code",
   "execution_count": 228,
   "id": "fce8c91c-f36a-4f4a-b188-e691e7e3cf6f",
   "metadata": {},
   "outputs": [],
   "source": [
    "# 6 because we have 3, 2 dimensional inputs. Second is the number of neurons which is up to us.\n",
    "n = 100 # neurons\n",
    "W1 = torch.rand((6, n))\n",
    "b1 = torch.rand(n)"
   ]
  },
  {
   "cell_type": "code",
   "execution_count": 229,
   "id": "b2dd4d7a-59ea-4d1c-9298-39e8775538f4",
   "metadata": {},
   "outputs": [
    {
     "data": {
      "text/plain": [
       "tensor([[-0.8098,  0.8213, -0.6573,  ...,  0.5940, -0.8843,  0.2299],\n",
       "        [-0.4278,  0.7973,  0.2536,  ...,  0.5551, -0.6508,  0.8232],\n",
       "        [-0.5718, -0.1264,  0.9187,  ..., -0.3616, -0.8576,  0.7503],\n",
       "        ...,\n",
       "        [-0.9892, -0.9834, -0.9911,  ..., -0.7097, -0.9750, -0.7001],\n",
       "        [-0.9948, -0.9894, -0.9811,  ..., -0.9222, -0.9978, -0.9008],\n",
       "        [-0.9250, -0.6956, -0.9911,  ...,  0.5599, -0.4244, -0.6608]])"
      ]
     },
     "execution_count": 229,
     "metadata": {},
     "output_type": "execute_result"
    }
   ],
   "source": [
    "# We do negative one so pytorch will infer the shape.\n",
    "h = torch.tanh(emb.view(-1, 6) @ W1 + b1)\n",
    "h\n"
   ]
  },
  {
   "cell_type": "code",
   "execution_count": 230,
   "id": "df2a07aa-6197-48fe-bd66-8d24a9623280",
   "metadata": {},
   "outputs": [],
   "source": [
    "W2 = torch.rand((n, 27))\n",
    "b2 = torch.rand(27)"
   ]
  },
  {
   "cell_type": "code",
   "execution_count": 231,
   "id": "7a27c6dc-a310-4e5f-9049-b080830286da",
   "metadata": {},
   "outputs": [],
   "source": [
    "logits = h @ W2 + b2"
   ]
  },
  {
   "cell_type": "code",
   "execution_count": 232,
   "id": "f94a0e2d-1f71-404c-8ed3-4b71a1871c1d",
   "metadata": {},
   "outputs": [],
   "source": [
    "counts = logits.exp()"
   ]
  },
  {
   "cell_type": "code",
   "execution_count": 233,
   "id": "eac2e6ec-cd87-4e2b-b5d0-269c44d3fba9",
   "metadata": {},
   "outputs": [],
   "source": [
    "prob = counts / counts.sum(1, keepdims=True)"
   ]
  },
  {
   "cell_type": "code",
   "execution_count": 234,
   "id": "4846f4da-d6a6-47e9-8ea1-ac9f83ee0e14",
   "metadata": {},
   "outputs": [
    {
     "data": {
      "text/plain": [
       "tensor(1.0000)"
      ]
     },
     "execution_count": 234,
     "metadata": {},
     "output_type": "execute_result"
    }
   ],
   "source": [
    "prob.shape\n",
    "prob[0].sum()"
   ]
  },
  {
   "cell_type": "code",
   "execution_count": 235,
   "id": "4ebfc558-d5ea-49b2-b0ac-1a18f2f766b4",
   "metadata": {},
   "outputs": [
    {
     "ename": "IndexError",
     "evalue": "shape mismatch: indexing tensors could not be broadcast together with shapes [32], [228146]",
     "output_type": "error",
     "traceback": [
      "\u001b[0;31m---------------------------------------------------------------------------\u001b[0m",
      "\u001b[0;31mIndexError\u001b[0m                                Traceback (most recent call last)",
      "Cell \u001b[0;32mIn[235], line 1\u001b[0m\n\u001b[0;32m----> 1\u001b[0m loss \u001b[38;5;241m=\u001b[39m \u001b[38;5;241m-\u001b[39m\u001b[43mprob\u001b[49m\u001b[43m[\u001b[49m\u001b[43mtorch\u001b[49m\u001b[38;5;241;43m.\u001b[39;49m\u001b[43marange\u001b[49m\u001b[43m(\u001b[49m\u001b[38;5;241;43m32\u001b[39;49m\u001b[43m)\u001b[49m\u001b[43m,\u001b[49m\u001b[43m \u001b[49m\u001b[43mY\u001b[49m\u001b[43m]\u001b[49m\u001b[38;5;241m.\u001b[39mlog()\u001b[38;5;241m.\u001b[39mmean()\n",
      "\u001b[0;31mIndexError\u001b[0m: shape mismatch: indexing tensors could not be broadcast together with shapes [32], [228146]"
     ]
    }
   ],
   "source": [
    "loss = -prob[torch.arange(32), Y].log().mean()"
   ]
  },
  {
   "cell_type": "code",
   "execution_count": 236,
   "id": "70f76bb4-0630-4928-845a-9840d269770b",
   "metadata": {},
   "outputs": [
    {
     "data": {
      "text/plain": [
       "tensor(0.2556, grad_fn=<NllLossBackward0>)"
      ]
     },
     "execution_count": 236,
     "metadata": {},
     "output_type": "execute_result"
    }
   ],
   "source": [
    "loss"
   ]
  },
  {
   "cell_type": "code",
   "execution_count": 13,
   "id": "d976289c-e19f-40f1-9c12-990b5d12aaba",
   "metadata": {},
   "outputs": [
    {
     "data": {
      "text/plain": [
       "(torch.Size([228146, 3]), torch.Size([228146]))"
      ]
     },
     "execution_count": 13,
     "metadata": {},
     "output_type": "execute_result"
    }
   ],
   "source": [
    "# -------------- Tidy Up -------------- #\n",
    "X.shape, Y.shape # Dataset"
   ]
  },
  {
   "cell_type": "code",
   "execution_count": 84,
   "id": "ab51b573-8a11-413a-9927-69af5a96e139",
   "metadata": {},
   "outputs": [],
   "source": [
    "g = torch.Generator().manual_seed(2147483647) # for reproducability\n",
    "\n",
    "C = torch.randn((27, 2), generator=g) # Random initial values\n",
    "n = 100 # Number of neurons I want in hidden layer\n",
    "\n",
    "W1 = torch.randn((6, n), generator=g) # Random weights, one for each letter and '.'\n",
    "b1 = torch.randn(n, generator=g) # Random biases\n",
    "\n",
    "W2 = torch.randn((n, 27), generator=g) # Random weights again, output layer is 27\n",
    "b2 = torch.randn(27, generator=g) # Random \n",
    "\n",
    "parameters = [C, W1, b1, W2, b2]"
   ]
  },
  {
   "cell_type": "code",
   "execution_count": 85,
   "id": "55fd2d8b-06d6-4f07-b6f8-83221d9cee54",
   "metadata": {},
   "outputs": [
    {
     "data": {
      "text/plain": [
       "3481"
      ]
     },
     "execution_count": 85,
     "metadata": {},
     "output_type": "execute_result"
    }
   ],
   "source": [
    "sum(p.nelement() for p in parameters) # Number of parameters"
   ]
  },
  {
   "cell_type": "code",
   "execution_count": 86,
   "id": "ae27f9b7-a8de-4856-a9db-c49f9407af88",
   "metadata": {},
   "outputs": [],
   "source": [
    "for p in parameters:\n",
    "    p.requires_grad = True"
   ]
  },
  {
   "cell_type": "code",
   "execution_count": 99,
   "id": "5c116149-7575-4ef6-b07b-0847dbf90ed7",
   "metadata": {},
   "outputs": [],
   "source": [
    "lre = torch.linspace(-3, 0, 1000)\n",
    "lrs = 10**lre"
   ]
  },
  {
   "cell_type": "code",
   "execution_count": 95,
   "id": "648a067b-0f94-4c73-bbb3-e3f4faf4ac95",
   "metadata": {},
   "outputs": [],
   "source": [
    "lrei = []\n",
    "lossi = []\n",
    "\n",
    "# Forward pass\n",
    "for i in range(10000):\n",
    "    # Mini batch\n",
    "    ix = torch.randint(0, X.shape[0], (32,))\n",
    "    \n",
    "    emb = C[X[ix]] # emb.shape = [32, 3, 2]\n",
    "    h = torch.tanh(emb.view(-1, 6) @ W1 + b1) # We use view to get into desired shape (32, 100)\n",
    "    logits = h @ W2 + b2 # (32, 27)\n",
    "    # counts = logits.exp()\n",
    "    # prob = counts / counts.sum(|1, keepdims=True)\n",
    "    # loss = -prob[torch.arange(32), Y].log().mean()\n",
    "    loss = F.cross_entropy(logits, Y[ix]) \n",
    "    \n",
    "    # Backward pass\n",
    "    for p in parameters:\n",
    "        p.grad = None\n",
    "    loss.backward()\n",
    "    \n",
    "    # Update\n",
    "    lr = 10**-10\n",
    "    for p in parameters:\n",
    "        p.data += -lr * p.grad \n",
    "\n",
    "    ## Track stats\n",
    "    # lrei.append(lre[i])\n",
    "    # lossi.append(loss.item())\n",
    "# print(loss.item())"
   ]
  },
  {
   "cell_type": "code",
   "execution_count": 78,
   "id": "5f745c98-d0bc-45c4-88ee-070461a74892",
   "metadata": {},
   "outputs": [
    {
     "data": {
      "text/plain": [
       "[<matplotlib.lines.Line2D at 0x1164017d0>]"
      ]
     },
     "execution_count": 78,
     "metadata": {},
     "output_type": "execute_result"
    },
    {
     "data": {
      "image/png": "[encoded data removed]",
      "text/plain": [
       "<Figure size 640x480 with 1 Axes>"
      ]
     },
     "metadata": {},
     "output_type": "display_data"
    }
   ],
   "source": [
    "# plt.plot(lrei, lossi)"
   ]
  },
  {
   "cell_type": "code",
   "execution_count": 96,
   "id": "47bf65b8-1248-4448-b6b3-296601857337",
   "metadata": {},
   "outputs": [
    {
     "data": {
      "text/plain": [
       "tensor(2.2487, grad_fn=<NllLossBackward0>)"
      ]
     },
     "execution_count": 96,
     "metadata": {},
     "output_type": "execute_result"
    }
   ],
   "source": [
    "emb = C[X[ix]] # emb.shape = [32, 3, 2]\n",
    "h = torch.tanh(emb.view(-1, 6) @ W1 + b1) # We use view to get into desired shape (32, 100)\n",
    "logits = h @ W2 + b2 # (32, 27)\n",
    "loss = F.cross_entropy(logits, Y[ix]) \n",
    "loss"
   ]
  },
  {
   "cell_type": "code",
   "execution_count": 145,
   "id": "a6a35f0c-0e54-4743-a64d-b0ebf106f89b",
   "metadata": {},
   "outputs": [
    {
     "name": "stdout",
     "output_type": "stream",
     "text": [
      "torch.Size([182512, 3]) torch.Size([182512])\n",
      "torch.Size([22860, 3]) torch.Size([22860])\n",
      "torch.Size([22774, 3]) torch.Size([22774])\n"
     ]
    }
   ],
   "source": [
    "# Train, dev/validation, test split (80:10:10)\n",
    "\n",
    "def build_datatset(words):\n",
    "    block_size = 3 \n",
    "    X, Y = [], []\n",
    "    \n",
    "    for w in words:\n",
    "        context = [0] * block_size  \n",
    "    \n",
    "        for ch in w + '.':\n",
    "            ix = stoi[ch]\n",
    "            X.append(context)\n",
    "            Y.append(ix)\n",
    "            context = context[1:] + [ix] \n",
    "    \n",
    "    X = torch.tensor(X)\n",
    "    Y = torch.tensor(Y)\n",
    "    print(X.shape, Y.shape)\n",
    "    return X, Y\n",
    "\n",
    "import random\n",
    "random.seed(42)\n",
    "random.shuffle(words)\n",
    "n1 = int(0.8 * len(words))\n",
    "n2 = int(0.9 * len(words))\n",
    "\n",
    "Xtr, Ytr = build_datatset(words[:n1])\n",
    "Xdev, Ydev = build_datatset(words[n1:n2])\n",
    "Xte, Yte = build_datatset(words[n2:])\n"
   ]
  },
  {
   "cell_type": "code",
   "execution_count": 209,
   "id": "c89189be-fbae-4f3e-8eea-d85d492f3e87",
   "metadata": {},
   "outputs": [],
   "source": [
    "g = torch.Generator().manual_seed(2147483647) # for reproducability\n",
    "\n",
    "C = torch.randn((27, 10), generator=g) # Random initial values\n",
    "n = 200 # Number of neurons I want in hidden layer\n",
    "\n",
    "W1 = torch.randn((30, n), generator=g) # Random weights, one for each letter and '.'\n",
    "b1 = torch.randn(n, generator=g) # Random biases\n",
    "\n",
    "W2 = torch.randn((n, 27), generator=g) # Random weights again, output layer is 27\n",
    "b2 = torch.randn(27, generator=g) # Random \n",
    "\n",
    "parameters = [C, W1, b1, W2, b2]\n",
    "\n",
    "for p in parameters:\n",
    "    p.requires_grad = True\n",
    "\n",
    "lre = torch.linspace(-3, 0, 1000)\n",
    "lrs = 10**lre"
   ]
  },
  {
   "cell_type": "code",
   "execution_count": 188,
   "id": "3523effd-43f8-4b7a-a7d3-d2fd8c75834e",
   "metadata": {},
   "outputs": [
    {
     "data": {
      "text/plain": [
       "11897"
      ]
     },
     "execution_count": 188,
     "metadata": {},
     "output_type": "execute_result"
    }
   ],
   "source": [
    "sum(p.nelement() for p in parameters)"
   ]
  },
  {
   "cell_type": "code",
   "execution_count": 189,
   "id": "c4599c43-83a9-4e01-af12-ce8554ae8857",
   "metadata": {},
   "outputs": [],
   "source": [
    "lrei = []\n",
    "lossi = []\n",
    "stepi = []"
   ]
  },
  {
   "cell_type": "code",
   "execution_count": 198,
   "id": "acbe98da-cfbb-4cfd-b414-93e54df9ec6a",
   "metadata": {},
   "outputs": [],
   "source": [
    "# Forward pass\n",
    "for i in range(50000):\n",
    "    # Mini batch\n",
    "    ix = torch.randint(0, Xtr.shape[0], (32,))\n",
    "    \n",
    "    emb = C[Xtr[ix]] # emb.shape = [32, 3, 2]\n",
    "    h = torch.tanh(emb.view(-1, 30) @ W1 + b1) # We use view to get into desired shape (32, 100)\n",
    "    logits = h @ W2 + b2 # (32, 27)\n",
    "    # counts = logits.exp()\n",
    "    # prob = counts / counts.sum(|1, keepdims=True)\n",
    "    # loss = -prob[torch.arange(32), Y].log().mean()\n",
    "    loss = F.cross_entropy(logits, Ytr[ix]) \n",
    "    \n",
    "    # Backward pass\n",
    "    for p in parameters:\n",
    "        p.grad = None\n",
    "    loss.backward()\n",
    "    \n",
    "    # Update\n",
    "    lr = 0.01\n",
    "    for p in parameters:\n",
    "        p.data += -lr * p.grad \n",
    "\n",
    "    # Track stats\n",
    "    # lri.append(lrei[i])\n",
    "    stepi.append(i)\n",
    "    lossi.append(loss.log10().item())\n",
    "    \n",
    "# print(loss.item())"
   ]
  },
  {
   "cell_type": "code",
   "execution_count": 199,
   "id": "411cf9c8-af7f-4aef-8658-63c34f066739",
   "metadata": {},
   "outputs": [
    {
     "data": {
      "text/plain": [
       "[<matplotlib.lines.Line2D at 0x1695c1910>]"
      ]
     },
     "execution_count": 199,
     "metadata": {},
     "output_type": "execute_result"
    },
    {
     "data": {
      "image/png": "[encoded data removed]",
      "text/plain": [
       "<Figure size 640x480 with 1 Axes>"
      ]
     },
     "metadata": {},
     "output_type": "display_data"
    }
   ],
   "source": [
    "plt.plot(stepi, lossi)"
   ]
  },
  {
   "cell_type": "code",
   "execution_count": 200,
   "id": "b9d7f209-a726-4767-82c7-36259e6b9574",
   "metadata": {},
   "outputs": [
    {
     "data": {
      "text/plain": [
       "tensor(2.2020, grad_fn=<NllLossBackward0>)"
      ]
     },
     "execution_count": 200,
     "metadata": {},
     "output_type": "execute_result"
    }
   ],
   "source": [
    "emb = C[Xdev] # emb.shape = [32, 3, 2]\n",
    "h = torch.tanh(emb.view(-1, 30) @ W1 + b1) # We use view to get into desired shape (32, 100)\n",
    "logits = h @ W2 + b2 # (32, 27)\n",
    "loss = F.cross_entropy(logits, Ydev) \n",
    "loss"
   ]
  },
  {
   "cell_type": "code",
   "execution_count": 201,
   "id": "57d847fb-3a8b-400c-86a4-1659145cc91b",
   "metadata": {},
   "outputs": [
    {
     "data": {
      "text/plain": [
       "tensor(2.1734, grad_fn=<NllLossBackward0>)"
      ]
     },
     "execution_count": 201,
     "metadata": {},
     "output_type": "execute_result"
    }
   ],
   "source": [
    "emb = C[Xtr] # emb.shape = [32, 3, 2]\n",
    "h = torch.tanh(emb.view(-1, 30) @ W1 + b1) # We use view to get into desired shape (32, 100)\n",
    "logits = h @ W2 + b2 # (32, 27)\n",
    "loss = F.cross_entropy(logits, Ytr) \n",
    "loss"
   ]
  },
  {
   "cell_type": "code",
   "execution_count": 202,
   "id": "2bb2463f-6e05-4db2-93dc-6c4c3971fab5",
   "metadata": {},
   "outputs": [
    {
     "data": {
      "image/png": "[encoded data removed]",
      "text/plain": [
       "<Figure size 800x800 with 1 Axes>"
      ]
     },
     "metadata": {},
     "output_type": "display_data"
    }
   ],
   "source": [
    "plt.figure(figsize=(8,8))\n",
    "plt.scatter(C[:,0].data, C[:,1].data, s=200)\n",
    "\n",
    "for i in range(C.shape[0]):\n",
    "    plt.text(C[i,0].item(), C[i,1].item(), itos[i], ha=\"center\", va=\"center\", color=\"white\")\n",
    "plt.grid('minor')"
   ]
  },
  {
   "cell_type": "code",
   "execution_count": 210,
   "id": "2431fffa-0545-45d8-a0dc-023dae79a3b7",
   "metadata": {},
   "outputs": [],
   "source": [
    "lossi = []\n",
    "stepi = []"
   ]
  },
  {
   "cell_type": "code",
   "execution_count": 211,
   "id": "663e64d4-00b0-47e8-be8d-a63c5bf5107d",
   "metadata": {},
   "outputs": [],
   "source": [
    "for i in range(200000):\n",
    "\n",
    "    # Minibatch construct\n",
    "    ix = torch.randint(0, Xtr.shape[0], (32,))\n",
    "\n",
    "    # Forward pass\n",
    "    emb = C[Xtr[ix]]\n",
    "    h = torch.tanh(emb.view(-1, 30) @ W1 + b1) # We use view to get into desired shape (32, 100)\n",
    "    logits = h @ W2 + b2 # (32, 27)\n",
    "    loss = F.cross_entropy(logits, Ytr[ix]) \n",
    "\n",
    "    for p in parameters:\n",
    "            p.grad = None\n",
    "    loss.backward()\n",
    "\n",
    "    lr = 0.1 if i < 100000 else 0.01\n",
    "    for p in parameters:\n",
    "        p.data += -lr * p.grad\n",
    "\n",
    "    stepi.append(i)\n",
    "    lossi.append(loss.log10().item())"
   ]
  },
  {
   "cell_type": "code",
   "execution_count": 212,
   "id": "4f677589-02eb-4a96-845e-44ad96b70b32",
   "metadata": {},
   "outputs": [
    {
     "data": {
      "text/plain": [
       "[<matplotlib.lines.Line2D at 0x16995c850>]"
      ]
     },
     "execution_count": 212,
     "metadata": {},
     "output_type": "execute_result"
    },
    {
     "data": {
      "image/png": "[encoded data removed]",
      "text/plain": [
       "<Figure size 640x480 with 1 Axes>"
      ]
     },
     "metadata": {},
     "output_type": "display_data"
    }
   ],
   "source": [
    "plt.plot(stepi, lossi)"
   ]
  },
  {
   "cell_type": "code",
   "execution_count": 213,
   "id": "b4985527-682c-48e7-aece-a7edfe4962da",
   "metadata": {},
   "outputs": [
    {
     "data": {
      "text/plain": [
       "tensor(2.1254, grad_fn=<NllLossBackward0>)"
      ]
     },
     "execution_count": 213,
     "metadata": {},
     "output_type": "execute_result"
    }
   ],
   "source": [
    "emb = C[Xtr] # emb.shape = [32, 3, 2]\n",
    "h = torch.tanh(emb.view(-1, 30) @ W1 + b1) # We use view to get into desired shape (32, 100)\n",
    "logits = h @ W2 + b2 # (32, 27)\n",
    "loss = F.cross_entropy(logits, Ytr) \n",
    "loss"
   ]
  },
  {
   "cell_type": "code",
   "execution_count": 214,
   "id": "a5ef3f00-23ff-4f61-82f9-403f98fc5dd9",
   "metadata": {},
   "outputs": [
    {
     "data": {
      "text/plain": [
       "tensor(2.1677, grad_fn=<NllLossBackward0>)"
      ]
     },
     "execution_count": 214,
     "metadata": {},
     "output_type": "execute_result"
    }
   ],
   "source": [
    "emb = C[Xdev] # emb.shape = [32, 3, 2]\n",
    "h = torch.tanh(emb.view(-1, 30) @ W1 + b1) # We use view to get into desired shape (32, 100)\n",
    "logits = h @ W2 + b2 # (32, 27)\n",
    "loss = F.cross_entropy(logits, Ydev) \n",
    "loss"
   ]
  },
  {
   "cell_type": "code",
   "execution_count": 215,
   "id": "2f5daadd-67a8-41bd-942e-403923ba3aa4",
   "metadata": {},
   "outputs": [
    {
     "data": {
      "image/png": "[encoded data removed]",
      "text/plain": [
       "<Figure size 800x800 with 1 Axes>"
      ]
     },
     "metadata": {},
     "output_type": "display_data"
    }
   ],
   "source": [
    "plt.figure(figsize=(8,8))\n",
    "plt.scatter(C[:,0].data, C[:,1].data, s=200)\n",
    "\n",
    "for i in range(C.shape[0]):\n",
    "    plt.text(C[i,0].item(), C[i,1].item(), itos[i], ha=\"center\", va=\"center\", color=\"white\")\n",
    "plt.grid('minor')"
   ]
  },
  {
   "cell_type": "code",
   "execution_count": 219,
   "id": "ff0ee519-9e32-4d30-8f43-43a78099ee81",
   "metadata": {},
   "outputs": [
    {
     "name": "stdout",
     "output_type": "stream",
     "text": [
      "carlah.\n",
      "amelle.\n",
      "khi.\n",
      "mili.\n",
      "thon.\n",
      "halayseeja.\n",
      "hutviyah.\n",
      "rha.\n",
      "kaeli.\n",
      "nellara.\n",
      "chaiia.\n",
      "kaleigh.\n",
      "ham.\n",
      "joir.\n",
      "quinton.\n",
      "lilea.\n",
      "jadiq.\n",
      "waterri.\n",
      "jarynix.\n",
      "kael.\n"
     ]
    }
   ],
   "source": [
    "g = torch.Generator().manual_seed(2147483647 + 10)\n",
    "\n",
    "for _ in range(20):\n",
    "\n",
    "    out = []\n",
    "    context = [0] * block_size\n",
    "    while True:\n",
    "        emb = C[torch.tensor([context])]\n",
    "        h = torch.tanh(emb.view(1, -1) @ W1 + b1)\n",
    "        logits = h @ W2 + b2\n",
    "        probs = F.softmax(logits, dim=1)\n",
    "        ix = torch.multinomial(probs, num_samples=1, generator=g).item()\n",
    "        context = context[1:] + [ix]\n",
    "        out.append(ix)\n",
    "        if ix == 0:\n",
    "            break\n",
    "\n",
    "    print(''.join(itos[i] for i in out))"
   ]
  },
  {
   "cell_type": "code",
   "execution_count": 217,
   "id": "1f060ff6-dc52-431e-837e-d8107b20ac28",
   "metadata": {},
   "outputs": [
    {
     "data": {
      "text/plain": [
       "[0, 0, 0]"
      ]
     },
     "execution_count": 217,
     "metadata": {},
     "output_type": "execute_result"
    }
   ],
   "source": []
  },
  {
   "cell_type": "code",
   "execution_count": null,
   "id": "c47219ad-483e-4680-9c7e-463ca7a618d3",
   "metadata": {},
   "outputs": [],
   "source": []
  }
 ],
 "metadata": {
  "kernelspec": {
   "display_name": "Python 3 (ipykernel)",
   "language": "python",
   "name": "python3"
  },
  "language_info": {
   "codemirror_mode": {
    "name": "ipython",
    "version": 3
   },
   "file_extension": ".py",
   "mimetype": "text/x-python",
   "name": "python",
   "nbconvert_exporter": "python",
   "pygments_lexer": "ipython3",
   "version": "3.11.7"
  }
 },
 "nbformat": 4,
 "nbformat_minor": 5
}
