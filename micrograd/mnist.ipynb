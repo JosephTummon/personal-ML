{
 "cells": [
  {
   "cell_type": "markdown",
   "metadata": {},
   "source": []
  },
  {
   "cell_type": "code",
   "execution_count": 1,
   "metadata": {},
   "outputs": [],
   "source": [
    "from micrograd.engine import Value\n",
    "from micrograd.nn import Neuron, Layer, MLP"
   ]
  },
  {
   "cell_type": "code",
   "execution_count": 4,
   "metadata": {},
   "outputs": [
    {
     "ename": "ModuleNotFoundError",
     "evalue": "No module named 'keras'",
     "output_type": "error",
     "traceback": [
      "\u001b[0;31m---------------------------------------------------------------------------\u001b[0m",
      "\u001b[0;31mModuleNotFoundError\u001b[0m                       Traceback (most recent call last)",
      "\u001b[1;32m/Users/josephtummon/Desktop/CompSci/micrograd/mnist.ipynb Cell 2\u001b[0m line \u001b[0;36m1\n\u001b[0;32m----> <a href='vscode-notebook-cell:/Users/josephtummon/Desktop/CompSci/micrograd/mnist.ipynb#W1sZmlsZQ%3D%3D?line=0'>1</a>\u001b[0m \u001b[39mfrom\u001b[39;00m \u001b[39mkeras\u001b[39;00m\u001b[39m.\u001b[39;00m\u001b[39mdatasets\u001b[39;00m \u001b[39mimport\u001b[39;00m mnist\n\u001b[1;32m      <a href='vscode-notebook-cell:/Users/josephtummon/Desktop/CompSci/micrograd/mnist.ipynb#W1sZmlsZQ%3D%3D?line=1'>2</a>\u001b[0m \u001b[39mimport\u001b[39;00m \u001b[39mkeras\u001b[39;00m\n\u001b[1;32m      <a href='vscode-notebook-cell:/Users/josephtummon/Desktop/CompSci/micrograd/mnist.ipynb#W1sZmlsZQ%3D%3D?line=2'>3</a>\u001b[0m \u001b[39mimport\u001b[39;00m \u001b[39mnumpy\u001b[39;00m \u001b[39mas\u001b[39;00m \u001b[39mnp\u001b[39;00m\n",
      "\u001b[0;31mModuleNotFoundError\u001b[0m: No module named 'keras'"
     ]
    }
   ],
   "source": [
    "from keras.datasets import mnist\n",
    "import keras\n",
    "import numpy as np"
   ]
  },
  {
   "cell_type": "code",
   "execution_count": null,
   "metadata": {},
   "outputs": [],
   "source": [
    "(x_train,y_train),(x_test,y_test) = mnist.load_data()\n",
    "train_images = np.asarray(x_train, dtype=np.float32) / 255.0\n",
    "test_images = np.asarray(x_test, dtype=np.float32) / 255.0\n",
    "train_images = train_images.reshape(60000,784)\n",
    "test_images = test_images.reshape(10000,784)\n",
    "y_train = keras.utils.to_categorical(y_train)"
   ]
  },
  {
   "cell_type": "code",
   "execution_count": null,
   "metadata": {},
   "outputs": [],
   "source": [
    "def calculate_loss(X,Y,W):\n",
    "  return -(1/X.shape[0])*np.sum(np.sum(Y*np.log(np.exp(np.matmul(X,W)) / np.sum(np.exp(np.matmul(X,W)),axis=1)[:, None]),axis = 1))"
   ]
  },
  {
   "cell_type": "code",
   "execution_count": null,
   "metadata": {},
   "outputs": [
    {
     "name": "stdout",
     "output_type": "stream",
     "text": [
      "loss in step 0 is 14.007432347165535\n",
      "loss in step 1000 is 0.6728560564096062\n",
      "loss in step 2000 is 0.5520103034106367\n",
      "loss in step 3000 is 0.47998106673044727\n",
      "loss in step 4000 is 0.4433209918973619\n",
      "loss in step 5000 is 0.40997998099902744\n",
      "loss in step 6000 is 0.39314121205108443\n",
      "loss in step 7000 is 0.380594214996325\n",
      "loss in step 8000 is 0.36846505526994067\n",
      "loss in step 9000 is 0.3559533546834068\n",
      "loss in step 10000 is 0.34700212661512175\n",
      "loss in step 11000 is 0.3463872208169478\n",
      "loss in step 12000 is 0.3622218797430333\n",
      "loss in step 13000 is 0.3288484797569662\n",
      "loss in step 14000 is 0.3261289614844742\n",
      "loss in step 15000 is 0.31932447161032546\n",
      "loss in step 16000 is 0.3215131099103278\n",
      "loss in step 17000 is 0.31081241578821256\n",
      "loss in step 18000 is 0.30915089107643323\n",
      "loss in step 19000 is 0.3033560102817055\n",
      "loss in final step 20000 is 0.3097321839840998\n"
     ]
    }
   ],
   "source": [
    "batch_size = 32\n",
    "steps = 20000\n",
    "Wb = Value(np.random.randn(784,10))# new initialized weights for gradient descent\n",
    "for step in range(steps):\n",
    "  ri = np.random.permutation(train_images.shape[0])[:batch_size]\n",
    "  Xb, yb = Value(train_images[ri]), Value(y_train[ri])\n",
    "  y_predW = Xb.matmul(Wb)\n",
    "  probs = y_predW.softmax()\n",
    "  log_probs = probs.log()\n",
    "\n",
    "  zb = yb*log_probs\n",
    "\n",
    "  outb = zb.reduce_sum(axis = 1)\n",
    "  finb = -outb.reduce_sum()  #cross entropy loss\n",
    "  finb.backward()\n",
    "  if step%1000==0:\n",
    "    loss = calculate_loss(train_images,y_train,Wb.data)\n",
    "    print(f'loss in step {step} is {loss}')\n",
    "  Wb.data = Wb.data- 0.01*Wb.grad\n",
    "  Wb.grad = 0\n",
    "loss = calculate_loss(train_images,y_train,Wb.data)\n",
    "print(f'loss in final step {step+1} is {loss}')"
   ]
  },
  {
   "cell_type": "code",
   "execution_count": 3,
   "metadata": {},
   "outputs": [
    {
     "ename": "NameError",
     "evalue": "name 'np' is not defined",
     "output_type": "error",
     "traceback": [
      "\u001b[0;31m---------------------------------------------------------------------------\u001b[0m",
      "\u001b[0;31mNameError\u001b[0m                                 Traceback (most recent call last)",
      "\u001b[1;32m/Users/josephtummon/Desktop/CompSci/micrograd/mnist.ipynb Cell 6\u001b[0m line \u001b[0;36m2\n\u001b[1;32m      <a href='vscode-notebook-cell:/Users/josephtummon/Desktop/CompSci/micrograd/mnist.ipynb#W5sZmlsZQ%3D%3D?line=0'>1</a>\u001b[0m \u001b[39mfrom\u001b[39;00m \u001b[39msklearn\u001b[39;00m\u001b[39m.\u001b[39;00m\u001b[39mmetrics\u001b[39;00m \u001b[39mimport\u001b[39;00m accuracy_score\n\u001b[0;32m----> <a href='vscode-notebook-cell:/Users/josephtummon/Desktop/CompSci/micrograd/mnist.ipynb#W5sZmlsZQ%3D%3D?line=1'>2</a>\u001b[0m \u001b[39mprint\u001b[39m(\u001b[39mf\u001b[39m\u001b[39m'\u001b[39m\u001b[39maccuracy on test data is \u001b[39m\u001b[39m{\u001b[39;00maccuracy_score(np\u001b[39m.\u001b[39margmax(np\u001b[39m.\u001b[39mmatmul(test_images,Wb\u001b[39m.\u001b[39mdata),axis \u001b[39m=\u001b[39m \u001b[39m1\u001b[39m),y_test)\u001b[39m*\u001b[39m\u001b[39m100\u001b[39m\u001b[39m}\u001b[39;00m\u001b[39m %\u001b[39m\u001b[39m'\u001b[39m)\n",
      "\u001b[0;31mNameError\u001b[0m: name 'np' is not defined"
     ]
    }
   ],
   "source": [
    "from sklearn.metrics import accuracy_score\n",
    "print(f'accuracy on test data is {accuracy_score(np.argmax(np.matmul(test_images,Wb.data),axis = 1),y_test)*100} %')"
   ]
  },
  {
   "cell_type": "code",
   "execution_count": null,
   "metadata": {},
   "outputs": [],
   "source": []
  },
  {
   "cell_type": "code",
   "execution_count": null,
   "metadata": {},
   "outputs": [],
   "source": []
  },
  {
   "cell_type": "code",
   "execution_count": null,
   "metadata": {},
   "outputs": [],
   "source": []
  },
  {
   "cell_type": "code",
   "execution_count": null,
   "metadata": {},
   "outputs": [],
   "source": []
  }
 ],
 "metadata": {
  "kernelspec": {
   "display_name": "venv",
   "language": "python",
   "name": "python3"
  },
  "language_info": {
   "codemirror_mode": {
    "name": "ipython",
    "version": 3
   },
   "file_extension": ".py",
   "mimetype": "text/x-python",
   "name": "python",
   "nbconvert_exporter": "python",
   "pygments_lexer": "ipython3",
   "version": "3.8.16"
  }
 },
 "nbformat": 4,
 "nbformat_minor": 2
}
